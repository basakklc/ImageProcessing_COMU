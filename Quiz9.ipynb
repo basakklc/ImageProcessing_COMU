{
 "cells": [
  {
   "cell_type": "code",
   "execution_count": 1,
   "metadata": {},
   "outputs": [],
   "source": [
    "import numpy as np\n",
    " \n",
    "class Perceptron(object):\n",
    "    \"\"\"Implements a perceptron network\"\"\"\n",
    "    def __init__(self, input_size, lr=1, epochs=10):\n",
    "        self.W = np.zeros(input_size+1)\n",
    "        # add one for bias\n",
    "        self.epochs = epochs\n",
    "        self.lr = lr\n",
    "        \n",
    "    def activation_fn(self, x):\n",
    "        return 1 if x >= 0 else 0\n",
    "    def predict(self, x):\n",
    "        x = np.insert(x, 0, 1)\n",
    "        z = self.W.T.dot(x)\n",
    "        a = self.activation_fn(z)\n",
    "        return a\n",
    "    def fit(self, X, d):\n",
    "        for _ in range(self.epochs):\n",
    "            for i in range(d.shape[0]):\n",
    "                y = self.predict(X[i])\n",
    "                e = d[i] - y\n",
    "                self.W = self.W + self.lr * e * np.insert(X[i], 0, 1)"
   ]
  },
  {
   "cell_type": "code",
   "execution_count": 2,
   "metadata": {},
   "outputs": [],
   "source": [
    "\n",
    "if __name__ == '__main__':\n",
    "    X = np.array([\n",
    "        [0, 0],\n",
    "        [0, 1],\n",
    "        [1, 0],\n",
    "        [1, 1]\n",
    "    ])"
   ]
  },
  {
   "cell_type": "code",
   "execution_count": 3,
   "metadata": {},
   "outputs": [
    {
     "name": "stdout",
     "output_type": "stream",
     "text": [
      "[-3.  2.  1.]\n"
     ]
    }
   ],
   "source": [
    "d = np.array([0, 0, 0, 1])\n",
    " \n",
    "perceptron = Perceptron(input_size=2)\n",
    "perceptron.fit(X, d)\n",
    "print(perceptron.W)"
   ]
  },
  {
   "cell_type": "code",
   "execution_count": 4,
   "metadata": {},
   "outputs": [
    {
     "data": {
      "text/plain": [
       "array([[0, 0],\n",
       "       [0, 1],\n",
       "       [1, 0],\n",
       "       [1, 1]])"
      ]
     },
     "execution_count": 4,
     "metadata": {},
     "output_type": "execute_result"
    }
   ],
   "source": [
    "X"
   ]
  },
  {
   "cell_type": "code",
   "execution_count": 5,
   "metadata": {},
   "outputs": [
    {
     "data": {
      "text/plain": [
       "array([0, 0, 0, 1])"
      ]
     },
     "execution_count": 5,
     "metadata": {},
     "output_type": "execute_result"
    }
   ],
   "source": [
    "d"
   ]
  },
  {
   "cell_type": "code",
   "execution_count": 6,
   "metadata": {},
   "outputs": [
    {
     "data": {
      "text/plain": [
       "1"
      ]
     },
     "execution_count": 6,
     "metadata": {},
     "output_type": "execute_result"
    }
   ],
   "source": [
    "mp = Perceptron(5) #(100*100)\n",
    "x = np.asarray([-10,-2,-30,-4,-50])\n",
    "mp.predict(x)"
   ]
  },
  {
   "cell_type": "code",
   "execution_count": 7,
   "metadata": {},
   "outputs": [
    {
     "data": {
      "text/plain": [
       "1"
      ]
     },
     "execution_count": 7,
     "metadata": {},
     "output_type": "execute_result"
    }
   ],
   "source": [
    "mp.activation_fn(10)"
   ]
  },
  {
   "cell_type": "code",
   "execution_count": 8,
   "metadata": {},
   "outputs": [
    {
     "data": {
      "text/plain": [
       "array([0., 0., 0., 0., 0., 0.])"
      ]
     },
     "execution_count": 8,
     "metadata": {},
     "output_type": "execute_result"
    }
   ],
   "source": [
    "mp.W"
   ]
  },
  {
   "cell_type": "markdown",
   "metadata": {},
   "source": [
    "1- Perceptron class tanımınında var olan fonksiyonları kısaca tanıtınız.\n",
    "   \n",
    "   init :  \n",
    "Perceptron oluşturur. İlk olarak kaç veri olacağını kullanıcıdan girdi olarak alırız. Sapmayı dahil etmek için girdi boyutunu arttırırız.\n",
    "\n",
    "   activation_fn:\n",
    "Toplam foksiyonundan elde ettiğimiz değeri aktivasyon fonksiyonuna parametre olarak göndeririz. \">0\" ise 1, \"<0\" ise 0 olacak şekilde aktivasyonu fonksiyonu  çıktı üretmiş olur.\n",
    "\n",
    "   predict:\n",
    "Tahmin fonksiyonu olup girdiler sonucu çıktı üretmeyi sağlar. Bias değeri eklendikten sonra \"dot\" metodu ile 2 dizinin çarpımı gerçekleştirilir(input ve ağırlık). Bu değer activation_fn gönderilir ve bir çıktı elde edilir.\n",
    "\n",
    "   fit:\n",
    "Eğitim fonksiyonudur. Girdiler kullanıcıdan alınır ve bunlar üzerinde herhangi bir değişim gerçekleştirilemez. Fakat W (ağırlık değerleri) ve b değerleri problemin çözümüne katkı sağlayacak şekilde değiştirilebilir. Bu fonksiyonda iteratif olarak W ve b değerlerinin güncellenmesini sağlar. Tahmin değerini oluşturup hata hesaplamasını yapabilir.\n"
   ]
  },
  {
   "cell_type": "markdown",
   "metadata": {},
   "source": [
    "2- XOR için verileri değiştirip çalışmasınızı gözlemleyiniz.  \n",
    "\n",
    "Aşağıda gösterildiği gibi predict fonksiyonu doğru sonuçları üretmemekte. And ve Or işlemlerinde bu tür sorunlar yaşanmıyordu. Çünkü predict fonksiyonu  doğrusal olarak ayrılabilen çıktılarda doğru çalışırken, Xor gibi doğrusal ayrılamayan problemlerde yanlış çalışıyor.\n"
   ]
  },
  {
   "cell_type": "code",
   "execution_count": 21,
   "metadata": {},
   "outputs": [
    {
     "name": "stdout",
     "output_type": "stream",
     "text": [
      "[ 0. -1.  0.]\n",
      "1\n",
      "1\n",
      "0\n",
      "0\n"
     ]
    }
   ],
   "source": [
    "\n",
    "if __name__ == '__main__':\n",
    "    X = np.array([  #X girdiler\n",
    "        [0, 0],\n",
    "        [0, 1],\n",
    "        [1, 0],\n",
    "        [1, 1]\n",
    "    ])\n",
    "    d = np.array([0, 1, 1, 0]) #girdilere uygun output değerleri -> d\n",
    " \n",
    "    perceptron = Perceptron(input_size=2)\n",
    "    perceptron.fit(X, d)\n",
    "    print(perceptron.W)\n",
    "    \n",
    "    #predict fonksiyonu sonucu hesaplanan değerler\n",
    "    print(perceptron.predict(np.asarray([0,0]))) #1\n",
    "    print(perceptron.predict(np.asarray([0,1]))) #1\n",
    "    print(perceptron.predict(np.asarray([1,0]))) #0\n",
    "    print(perceptron.predict(np.asarray([1,1]))) #0\n",
    "    \n",
    "     "
   ]
  },
  {
   "cell_type": "markdown",
   "metadata": {},
   "source": [
    "3- bu class ile dersimize kayıtlı 40 öğrenci için imza tanıması yapılırsa X ve d değerlerini ne olur, predict fonksiyonu nasıl kullanılır açıklayınız\n",
    "\n",
    "Yukarıdaki kodun yorum satırlarında da gösterildiği gibi X inputları, d ise beklenen outputları ifade etmekte. 40 öğrenci olduğundan, öğrenci imzalarını tutacak 40 elemanlı bir diziye ihtiyaç vardır => X değeri. Her bir öğrencinin imza karşılığı 40 adettir => d değeri. \n",
    "\n",
    "Predict fonksiyonunun girdisi olarak öğrenci imzası verilir. Girdiler işlenir ve sonucunda imzanın kime ait olduğu bilgisi output olarak elde edilir "
   ]
  },
  {
   "cell_type": "markdown",
   "metadata": {},
   "source": [
    "4- Bu modelin hatası nasıl elde edilir, kendi çözümünüzü/ yorumunuzu yazınız.\n",
    "\n",
    "Elde ettiğimiz çıktıdan asıl beklediğimiz sonucu çıkarttığımızda hatayı elde edebiliriz. Daha sonra gerekli iyileştirmeler yapılabilir. Ve bu hata değeri 0 çıkana kadar ya da belirlenen bir limit değerinden sonra sonlandırılabilir."
   ]
  }
 ],
 "metadata": {
  "kernelspec": {
   "display_name": "Python 3",
   "language": "python",
   "name": "python3"
  },
  "language_info": {
   "codemirror_mode": {
    "name": "ipython",
    "version": 3
   },
   "file_extension": ".py",
   "mimetype": "text/x-python",
   "name": "python",
   "nbconvert_exporter": "python",
   "pygments_lexer": "ipython3",
   "version": "3.8.3"
  }
 },
 "nbformat": 4,
 "nbformat_minor": 4
}
